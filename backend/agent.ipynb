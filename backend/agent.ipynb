{
 "cells": [
  {
   "cell_type": "code",
   "execution_count": 16,
   "id": "30f676f7",
   "metadata": {},
   "outputs": [
    {
     "data": {
      "text/plain": [
       "True"
      ]
     },
     "execution_count": 16,
     "metadata": {},
     "output_type": "execute_result"
    }
   ],
   "source": [
    "import time\n",
    "import warnings\n",
    "from dotenv import load_dotenv\n",
    "from langchain.tools import tool\n",
    "MODEL_NAME = 'gemini-2.5-flash'\n",
    "from typing import TypedDict, Annotated, Dict, Any\n",
    "from langgraph.graph.message import add_messages\n",
    "from langgraph.graph import StateGraph, START, END\n",
    "from langgraph.checkpoint.memory import InMemorySaver\n",
    "from langchain_core.messages import BaseMessage, AIMessage, HumanMessage\n",
    "from langchain_google_genai import ChatGoogleGenerativeAI\n",
    "\n",
    "try:\n",
    "    from langchain_tavily import TavilySearch\n",
    "    from langchain.agents import create_react_agent, AgentExecutor\n",
    "    from langchain import hub\n",
    "except ImportError as e:\n",
    "    print(f\"Warning: Search tools not available: {e}\")\n",
    "\n",
    "warnings.filterwarnings(\"ignore\")\n",
    "load_dotenv()\n"
   ]
  },
  {
   "cell_type": "code",
   "execution_count": 17,
   "id": "dd62125e",
   "metadata": {},
   "outputs": [],
   "source": [
    "@tool\n",
    "def get_current_time():\n",
    "    \"\"\"Getting current date and time\"\"\"\n",
    "    return time.ctime()"
   ]
  },
  {
   "cell_type": "code",
   "execution_count": 18,
   "id": "b47068af",
   "metadata": {},
   "outputs": [],
   "source": [
    "class StreamingSearchChain:\n",
    "    def __init__(self):\n",
    "        self.model = ChatGoogleGenerativeAI(model=MODEL_NAME, temperature=0.7)\n",
    "\n",
    "        try:\n",
    "            self.search_tool = TavilySearch(max_results=5)\n",
    "            print(\"✅ Search agent initialized\")\n",
    "        except Exception as e:\n",
    "            print(f\"⚠️ Search initialization failed: {e}\")\n",
    "\n",
    "    def execute_search_chain(self, query: str, update_callback=None):\n",
    "        \"\"\"Execute search chain: Search -> Stream -> Generate Response\"\"\"\n",
    "\n",
    "        # Step 1: Show search query\n",
    "        if update_callback:\n",
    "            update_callback(\"query\", f\"🔍 Searching: {query}\")\n",
    "\n",
    "        try:\n",
    "            # Step 2: Execute search tool\n",
    "            if update_callback:\n",
    "                update_callback(\"status\", \"🌐 Querying search engines...\")\n",
    "\n",
    "            # Get search results\n",
    "            search_results_raw = self.search_tool.invoke({\"query\": query})\n",
    "            print(search_results_raw)\n",
    "\n",
    "            # Step 3: Process and stream sources\n",
    "            sources = []\n",
    "            search_results = []\n",
    "            search_context = \"\"\n",
    "\n",
    "            if isinstance(search_results_raw, list):\n",
    "                for item in search_results_raw:\n",
    "                    if isinstance(item, dict):\n",
    "                        title = item.get(\"title\", \"No title\")\n",
    "                        url = item.get(\"url\", \"\")\n",
    "                        content = item.get(\"content\", \"\")\n",
    "\n",
    "                        # Store processed results\n",
    "                        search_results.append(\n",
    "                            {\n",
    "                                \"title\": title,\n",
    "                                \"url\": url,\n",
    "                                \"content\": (\n",
    "                                    content[:200] + \"...\"\n",
    "                                    if len(content) > 200\n",
    "                                    else content\n",
    "                                ),\n",
    "                                \"score\": item.get(\"score\", 0),\n",
    "                            }\n",
    "                        )\n",
    "\n",
    "                        # Build context for agent\n",
    "                        search_context += (\n",
    "                            f\"Title: {title}\\nURL: {url}\\nContent: {content}\\n\\n\"\n",
    "                        )\n",
    "\n",
    "                        if title != \"No title\":\n",
    "                            source = f\"{title}\"\n",
    "                            if url:\n",
    "                                source += f\" ({url})\"\n",
    "                            sources.append(source)\n",
    "\n",
    "                            # Stream each source\n",
    "                            if update_callback:\n",
    "                                update_callback(\"source\", source)\n",
    "                                time.sleep(0.3)  # Streaming delay\n",
    "\n",
    "            # Step 4: Generate response using search context\n",
    "            if update_callback:\n",
    "                update_callback(\"status\", \"🤖 Generating response...\")\n",
    "\n",
    "            # Create prompt with search context\n",
    "            prompt = f\"\"\"\n",
    "            Based on the following search results, provide a comprehensive answer to the query: \"{query}\"\n",
    "            \n",
    "            Search Results:\n",
    "            {search_context}\n",
    "            \n",
    "            Please provide a well-structured answer based on this information.\n",
    "            \"\"\"\n",
    "\n",
    "            response = self.model.invoke(prompt)\n",
    "            agent_answer = response.content\n",
    "\n",
    "            # Step 5: Show final answer\n",
    "            if update_callback:\n",
    "                update_callback(\"answer\", agent_answer)\n",
    "\n",
    "            return {\n",
    "                \"search_query\": query,\n",
    "                \"agent_answer\": agent_answer,\n",
    "                \"search_results\": search_results,\n",
    "                \"sources\": sources,\n",
    "                \"search_context\": search_context,\n",
    "                \"error\": None,\n",
    "            }\n",
    "\n",
    "        except Exception as e:\n",
    "            error_msg = f\"Search failed: {str(e)}\"\n",
    "            if update_callback:\n",
    "                update_callback(\"error\", error_msg)\n",
    "\n",
    "            return {\n",
    "                \"search_query\": query,\n",
    "                \"agent_answer\": error_msg,\n",
    "                \"search_results\": [],\n",
    "                \"sources\": [],\n",
    "                \"search_context\": \"\",\n",
    "                \"error\": str(e),\n",
    "            }"
   ]
  },
  {
   "cell_type": "code",
   "execution_count": 19,
   "id": "8b140e21",
   "metadata": {},
   "outputs": [],
   "source": [
    "# State and Graph Setup\n",
    "class AgentGraphState(TypedDict):\n",
    "    messages: Annotated[list[BaseMessage], add_messages]\n",
    "    search_data: Dict[str, Any]"
   ]
  },
  {
   "cell_type": "code",
   "execution_count": 20,
   "id": "540c62af",
   "metadata": {},
   "outputs": [
    {
     "name": "stdout",
     "output_type": "stream",
     "text": [
      "✅ Search agent initialized\n"
     ]
    }
   ],
   "source": [
    "search_chain = StreamingSearchChain()"
   ]
  },
  {
   "cell_type": "code",
   "execution_count": 21,
   "id": "4f81ecc5",
   "metadata": {},
   "outputs": [],
   "source": [
    "def run_search_chain(state: AgentGraphState) -> AgentGraphState:\n",
    "    messages = state[\"messages\"]\n",
    "    user_query = messages[-1].content\n",
    "\n",
    "    print(f\"\\n🔍 Processing: '{user_query}'\")\n",
    "\n",
    "    # Execute the search chain (without callback for graph execution)\n",
    "    search_data = search_chain.execute_search_chain(user_query)\n",
    "\n",
    "    return {\n",
    "        \"messages\": [AIMessage(content=search_data[\"agent_answer\"])],\n",
    "        \"search_data\": search_data,\n",
    "    }"
   ]
  },
  {
   "cell_type": "code",
   "execution_count": 22,
   "id": "cf360fd7",
   "metadata": {},
   "outputs": [],
   "source": [
    "graph = StateGraph(AgentGraphState)\n",
    "graph.add_node(\"search_chain\", run_search_chain)\n",
    "\n",
    "graph.add_edge(START, \"search_chain\")\n",
    "graph.add_edge(\"search_chain\", END)\n",
    "\n",
    "compiled_graph = graph.compile(checkpointer=InMemorySaver())"
   ]
  },
  {
   "cell_type": "code",
   "execution_count": 23,
   "id": "74c29b87",
   "metadata": {},
   "outputs": [
    {
     "name": "stdout",
     "output_type": "stream",
     "text": [
      "\n",
      "🔍 Processing: 'ind vs eng'\n",
      "{'query': 'ind vs eng', 'follow_up_questions': None, 'answer': None, 'images': [], 'results': [{'url': 'https://timesofindia.indiatimes.com/sports/cricket/india-tour-of-england/after-ind-vs-eng-series-jasprit-bumrahs-whats-next-post-keeps-fans-wondering/articleshow/123122700.cms', 'title': \"After IND vs ENG series, Jasprit Bumrah's 'what's next' post ...\", 'content': 'India and England concluded a captivating Test series with a 2-2 draw. The final match saw India secure a narrow six-run victory at The Oval.', 'score': 0.7515939, 'raw_content': None}, {'url': 'https://sports.ndtv.com/england-vs-india-2025/india-vs-england-live-score-ind-vs-eng-5th-test-live-updates-day-5-scorecard-london-oval-rain-weather-update-mohammed-siraj-prasidh-krishna-akash-deep-9014970', 'title': 'India vs England Highlights, 5th Test Day 5: Mohammed ...', 'content': 'India vs England Highlights, 5th Test Day 5: Shubman Gill-led India have clinched a dramatic six-run victory over England - their narrowest', 'score': 0.56661874, 'raw_content': None}, {'url': 'https://www.espncricinfo.com/series/india-in-england-2025-1445348', 'title': 'India tour of England 2025 | Live Score, Schedule, News', 'content': 'Stumps• Starts 10:00 AM•4th TEST• Manchester Image 3: IND Flag IND **358** Image 4: ENG Flag ENG (135 ov) **544/7** Day 3 - England lead by 186 runs.ScheduleReportVideosSeries RESULT•47th Match•County DIV1• FC• Southampton Image 13: Australia Flag NOT **578/8d&****108/1d** Image 14: Australia Flag HAM **454** Match drawnScheduleTableReportSeries RESULT•48th Match•County DIV1• FC• Hove Image 15: Australia Flag SUS **204&****261** Image 16: Australia Flag ESS **504** Essex won by an innings and 39 runsScheduleTableReportSeries RESULT•49th Match•County DIV1• FC• Scarborough Image 17: Australia Flag YOR **517/6d&****120/5** Image 18: Australia Flag SUR **537** Match drawnScheduleTableReportSeries RESULT•38th Match•County DIV2• FC• Northwood Image 27: Australia Flag MID **625/8d** Image 28: Australia Flag NOR **(fo) 261&****257** Middlesex won by an innings and 107 runsScheduleTableReportSeries', 'score': 0.5345888, 'raw_content': None}, {'url': 'https://www.espncricinfo.com/records/headtohead/team-series-results/england-india-1vs6/test-matches-1', 'title': 'Series results for England vs India in Tests', 'content': 'Series results for England vs India in Tests Terms of Use|Privacy Policy|Your US State Privacy Rights|Children\\'s Online Privacy Policy|Interest - Based Ads|Do Not Sell or Share My Personal Information|Feedback Some states provide residents (or, in some cases, their authorized agents) with the right to opt out of “targeted advertising,” “selling,” or “sharing” of personal information. Please note that, because these activities are based on online cookies, your opt-out choice is specific to this property. You also may have rights to opt out from certain third parties selling and sharing your personal information. To learn more, visit \"Do Not Sell or Share My Personal Information\" and \"Targeted Advertising\" Opt-Out Rights.', 'score': 0.35588735, 'raw_content': None}, {'url': 'https://en.wikipedia.org/wiki/Indian_cricket_team_in_England_in_2025', 'title': 'Indian cricket team in England in 2025', 'content': '| | Teams | | --- | | Image 9England Lions | Image 10India A | | Captains | | James Rew | Abhimanyu Easwaran | | Most runs | | Tom Haines (232) | Karun Nair (259) | | Most wickets | | Chris Woakes (5) George Hill \"George Hill (cricketer)\") (5) | Anshul Kamboj (5) | |', 'score': 0.22617671, 'raw_content': None}], 'response_time': 0.7}\n"
     ]
    },
    {
     "data": {
      "text/plain": [
       "{'messages': [HumanMessage(content='ind vs eng', additional_kwargs={}, response_metadata={}, id='feb90a96-abce-4ce5-9e78-3cbf870b7bfe'),\n",
       "  AIMessage(content='Based on the provided search results, which are empty, I am unable to provide a comprehensive answer regarding \"IND vs ENG\".\\n\\nThe search results section contains no information about matches, series, scores, or any related context between India and England in cricket (or any other sport).\\n\\nTo provide a comprehensive answer, I would typically need information such as:\\n*   Recent match results\\n*   Series schedules and formats (Tests, ODIs, T20Is)\\n*   Player statistics and performances\\n*   Historical rivalry information\\n*   Current news or developments related to their encounters', additional_kwargs={}, response_metadata={}, id='f5637bb4-3840-4fc4-a32e-2a5b6a2a4a76')],\n",
       " 'search_data': {'search_query': 'ind vs eng',\n",
       "  'agent_answer': 'Based on the provided search results, which are empty, I am unable to provide a comprehensive answer regarding \"IND vs ENG\".\\n\\nThe search results section contains no information about matches, series, scores, or any related context between India and England in cricket (or any other sport).\\n\\nTo provide a comprehensive answer, I would typically need information such as:\\n*   Recent match results\\n*   Series schedules and formats (Tests, ODIs, T20Is)\\n*   Player statistics and performances\\n*   Historical rivalry information\\n*   Current news or developments related to their encounters',\n",
       "  'search_results': [],\n",
       "  'sources': [],\n",
       "  'search_context': '',\n",
       "  'error': None}}"
      ]
     },
     "execution_count": 23,
     "metadata": {},
     "output_type": "execute_result"
    }
   ],
   "source": [
    "messages = compiled_graph.invoke({'messages': 'ind vs eng'}, {'configurable': {'thread_id': '1'}})\n",
    "messages"
   ]
  },
  {
   "cell_type": "code",
   "execution_count": 24,
   "id": "2df5a53d",
   "metadata": {},
   "outputs": [
    {
     "data": {
      "text/plain": [
       "'Based on the provided search results, which are empty, I am unable to provide a comprehensive answer regarding \"IND vs ENG\".\\n\\nThe search results section contains no information about matches, series, scores, or any related context between India and England in cricket (or any other sport).\\n\\nTo provide a comprehensive answer, I would typically need information such as:\\n*   Recent match results\\n*   Series schedules and formats (Tests, ODIs, T20Is)\\n*   Player statistics and performances\\n*   Historical rivalry information\\n*   Current news or developments related to their encounters'"
      ]
     },
     "execution_count": 24,
     "metadata": {},
     "output_type": "execute_result"
    }
   ],
   "source": [
    "messages['messages'][-1].content"
   ]
  }
 ],
 "metadata": {
  "kernelspec": {
   "display_name": "venv",
   "language": "python",
   "name": "python3"
  },
  "language_info": {
   "codemirror_mode": {
    "name": "ipython",
    "version": 3
   },
   "file_extension": ".py",
   "mimetype": "text/x-python",
   "name": "python",
   "nbconvert_exporter": "python",
   "pygments_lexer": "ipython3",
   "version": "3.11.0"
  }
 },
 "nbformat": 4,
 "nbformat_minor": 5
}
